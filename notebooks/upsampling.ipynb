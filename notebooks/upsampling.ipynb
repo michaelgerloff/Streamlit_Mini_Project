{
 "cells": [
  {
   "cell_type": "code",
   "execution_count": 2,
   "metadata": {},
   "outputs": [],
   "source": [
    "import pandas as pd\n",
    "from sklearn.utils import resample, shuffle"
   ]
  },
  {
   "cell_type": "code",
   "execution_count": 3,
   "metadata": {},
   "outputs": [],
   "source": [
    "X_train = pd.read_csv(\"../data/interim/X_train.csv\")\n",
    "y_train = pd.read_csv(\"../data/interim/y_train.csv\")"
   ]
  },
  {
   "cell_type": "code",
   "execution_count": 4,
   "metadata": {},
   "outputs": [
    {
     "data": {
      "text/plain": [
       "(1419, 1)"
      ]
     },
     "execution_count": 4,
     "metadata": {},
     "output_type": "execute_result"
    }
   ],
   "source": [
    "y_train.shape"
   ]
  },
  {
   "cell_type": "code",
   "execution_count": 5,
   "metadata": {},
   "outputs": [],
   "source": [
    "X_train[\"Type\"] = y_train"
   ]
  },
  {
   "cell_type": "code",
   "execution_count": 6,
   "metadata": {},
   "outputs": [
    {
     "data": {
      "text/html": [
       "<div>\n",
       "<style scoped>\n",
       "    .dataframe tbody tr th:only-of-type {\n",
       "        vertical-align: middle;\n",
       "    }\n",
       "\n",
       "    .dataframe tbody tr th {\n",
       "        vertical-align: top;\n",
       "    }\n",
       "\n",
       "    .dataframe thead th {\n",
       "        text-align: right;\n",
       "    }\n",
       "</style>\n",
       "<table border=\"1\" class=\"dataframe\">\n",
       "  <thead>\n",
       "    <tr style=\"text-align: right;\">\n",
       "      <th></th>\n",
       "      <th>URL_LENGTH</th>\n",
       "      <th>NUMBER_SPECIAL_CHARACTERS</th>\n",
       "      <th>CHARSET</th>\n",
       "      <th>WHOIS_COUNTRY</th>\n",
       "      <th>TCP_CONVERSATION_EXCHANGE</th>\n",
       "      <th>DIST_REMOTE_TCP_PORT</th>\n",
       "      <th>REMOTE_IPS</th>\n",
       "      <th>APP_BYTES</th>\n",
       "      <th>SOURCE_APP_PACKETS</th>\n",
       "      <th>REMOTE_APP_PACKETS</th>\n",
       "      <th>SOURCE_APP_BYTES</th>\n",
       "      <th>REMOTE_APP_BYTES</th>\n",
       "      <th>APP_PACKETS</th>\n",
       "      <th>DNS_QUERY_TIMES</th>\n",
       "      <th>Type</th>\n",
       "    </tr>\n",
       "  </thead>\n",
       "  <tbody>\n",
       "    <tr>\n",
       "      <th>0</th>\n",
       "      <td>34</td>\n",
       "      <td>7</td>\n",
       "      <td>Iso-8859-1</td>\n",
       "      <td>Us</td>\n",
       "      <td>23</td>\n",
       "      <td>3</td>\n",
       "      <td>11</td>\n",
       "      <td>2042</td>\n",
       "      <td>29</td>\n",
       "      <td>29</td>\n",
       "      <td>7939</td>\n",
       "      <td>2520</td>\n",
       "      <td>29</td>\n",
       "      <td>6.0</td>\n",
       "      <td>0</td>\n",
       "    </tr>\n",
       "    <tr>\n",
       "      <th>1</th>\n",
       "      <td>145</td>\n",
       "      <td>31</td>\n",
       "      <td>Utf-8</td>\n",
       "      <td>Us</td>\n",
       "      <td>10</td>\n",
       "      <td>3</td>\n",
       "      <td>3</td>\n",
       "      <td>1354</td>\n",
       "      <td>18</td>\n",
       "      <td>19</td>\n",
       "      <td>2517</td>\n",
       "      <td>2010</td>\n",
       "      <td>18</td>\n",
       "      <td>8.0</td>\n",
       "      <td>0</td>\n",
       "    </tr>\n",
       "    <tr>\n",
       "      <th>2</th>\n",
       "      <td>55</td>\n",
       "      <td>8</td>\n",
       "      <td>Utf-8</td>\n",
       "      <td>Not_available</td>\n",
       "      <td>24</td>\n",
       "      <td>3</td>\n",
       "      <td>9</td>\n",
       "      <td>1715</td>\n",
       "      <td>26</td>\n",
       "      <td>31</td>\n",
       "      <td>22292</td>\n",
       "      <td>1867</td>\n",
       "      <td>26</td>\n",
       "      <td>2.0</td>\n",
       "      <td>0</td>\n",
       "    </tr>\n",
       "    <tr>\n",
       "      <th>3</th>\n",
       "      <td>75</td>\n",
       "      <td>16</td>\n",
       "      <td>Iso-8859-1</td>\n",
       "      <td>Us</td>\n",
       "      <td>33</td>\n",
       "      <td>3</td>\n",
       "      <td>8</td>\n",
       "      <td>3647</td>\n",
       "      <td>41</td>\n",
       "      <td>39</td>\n",
       "      <td>32399</td>\n",
       "      <td>4247</td>\n",
       "      <td>41</td>\n",
       "      <td>8.0</td>\n",
       "      <td>0</td>\n",
       "    </tr>\n",
       "    <tr>\n",
       "      <th>4</th>\n",
       "      <td>71</td>\n",
       "      <td>12</td>\n",
       "      <td>Utf-8</td>\n",
       "      <td>Fr</td>\n",
       "      <td>25</td>\n",
       "      <td>3</td>\n",
       "      <td>5</td>\n",
       "      <td>3428</td>\n",
       "      <td>29</td>\n",
       "      <td>23</td>\n",
       "      <td>28007</td>\n",
       "      <td>3736</td>\n",
       "      <td>29</td>\n",
       "      <td>4.0</td>\n",
       "      <td>0</td>\n",
       "    </tr>\n",
       "  </tbody>\n",
       "</table>\n",
       "</div>"
      ],
      "text/plain": [
       "   URL_LENGTH  NUMBER_SPECIAL_CHARACTERS     CHARSET  WHOIS_COUNTRY  \\\n",
       "0          34                          7  Iso-8859-1             Us   \n",
       "1         145                         31       Utf-8             Us   \n",
       "2          55                          8       Utf-8  Not_available   \n",
       "3          75                         16  Iso-8859-1             Us   \n",
       "4          71                         12       Utf-8             Fr   \n",
       "\n",
       "   TCP_CONVERSATION_EXCHANGE  DIST_REMOTE_TCP_PORT  REMOTE_IPS  APP_BYTES  \\\n",
       "0                         23                     3          11       2042   \n",
       "1                         10                     3           3       1354   \n",
       "2                         24                     3           9       1715   \n",
       "3                         33                     3           8       3647   \n",
       "4                         25                     3           5       3428   \n",
       "\n",
       "   SOURCE_APP_PACKETS  REMOTE_APP_PACKETS  SOURCE_APP_BYTES  REMOTE_APP_BYTES  \\\n",
       "0                  29                  29              7939              2520   \n",
       "1                  18                  19              2517              2010   \n",
       "2                  26                  31             22292              1867   \n",
       "3                  41                  39             32399              4247   \n",
       "4                  29                  23             28007              3736   \n",
       "\n",
       "   APP_PACKETS  DNS_QUERY_TIMES  Type  \n",
       "0           29              6.0     0  \n",
       "1           18              8.0     0  \n",
       "2           26              2.0     0  \n",
       "3           41              8.0     0  \n",
       "4           29              4.0     0  "
      ]
     },
     "execution_count": 6,
     "metadata": {},
     "output_type": "execute_result"
    }
   ],
   "source": [
    "X_train.head()"
   ]
  },
  {
   "cell_type": "code",
   "execution_count": 8,
   "metadata": {},
   "outputs": [
    {
     "data": {
      "text/plain": [
       "Type\n",
       "0    1246\n",
       "1     173\n",
       "Name: count, dtype: int64"
      ]
     },
     "execution_count": 8,
     "metadata": {},
     "output_type": "execute_result"
    }
   ],
   "source": [
    "X_train.Type.value_counts()"
   ]
  },
  {
   "cell_type": "code",
   "execution_count": 9,
   "metadata": {},
   "outputs": [],
   "source": [
    "type_0 = X_train[X_train.loc[:, \"Type\"] == 0]"
   ]
  },
  {
   "cell_type": "code",
   "execution_count": 10,
   "metadata": {},
   "outputs": [
    {
     "data": {
      "text/plain": [
       "(1246, 15)"
      ]
     },
     "execution_count": 10,
     "metadata": {},
     "output_type": "execute_result"
    }
   ],
   "source": [
    "type_0.shape"
   ]
  },
  {
   "cell_type": "code",
   "execution_count": 11,
   "metadata": {},
   "outputs": [
    {
     "data": {
      "text/html": [
       "<div>\n",
       "<style scoped>\n",
       "    .dataframe tbody tr th:only-of-type {\n",
       "        vertical-align: middle;\n",
       "    }\n",
       "\n",
       "    .dataframe tbody tr th {\n",
       "        vertical-align: top;\n",
       "    }\n",
       "\n",
       "    .dataframe thead th {\n",
       "        text-align: right;\n",
       "    }\n",
       "</style>\n",
       "<table border=\"1\" class=\"dataframe\">\n",
       "  <thead>\n",
       "    <tr style=\"text-align: right;\">\n",
       "      <th></th>\n",
       "      <th>URL_LENGTH</th>\n",
       "      <th>NUMBER_SPECIAL_CHARACTERS</th>\n",
       "      <th>CHARSET</th>\n",
       "      <th>WHOIS_COUNTRY</th>\n",
       "      <th>TCP_CONVERSATION_EXCHANGE</th>\n",
       "      <th>DIST_REMOTE_TCP_PORT</th>\n",
       "      <th>REMOTE_IPS</th>\n",
       "      <th>APP_BYTES</th>\n",
       "      <th>SOURCE_APP_PACKETS</th>\n",
       "      <th>REMOTE_APP_PACKETS</th>\n",
       "      <th>SOURCE_APP_BYTES</th>\n",
       "      <th>REMOTE_APP_BYTES</th>\n",
       "      <th>APP_PACKETS</th>\n",
       "      <th>DNS_QUERY_TIMES</th>\n",
       "      <th>Type</th>\n",
       "    </tr>\n",
       "  </thead>\n",
       "  <tbody>\n",
       "    <tr>\n",
       "      <th>0</th>\n",
       "      <td>34</td>\n",
       "      <td>7</td>\n",
       "      <td>Iso-8859-1</td>\n",
       "      <td>Us</td>\n",
       "      <td>23</td>\n",
       "      <td>3</td>\n",
       "      <td>11</td>\n",
       "      <td>2042</td>\n",
       "      <td>29</td>\n",
       "      <td>29</td>\n",
       "      <td>7939</td>\n",
       "      <td>2520</td>\n",
       "      <td>29</td>\n",
       "      <td>6.0</td>\n",
       "      <td>0</td>\n",
       "    </tr>\n",
       "    <tr>\n",
       "      <th>1</th>\n",
       "      <td>145</td>\n",
       "      <td>31</td>\n",
       "      <td>Utf-8</td>\n",
       "      <td>Us</td>\n",
       "      <td>10</td>\n",
       "      <td>3</td>\n",
       "      <td>3</td>\n",
       "      <td>1354</td>\n",
       "      <td>18</td>\n",
       "      <td>19</td>\n",
       "      <td>2517</td>\n",
       "      <td>2010</td>\n",
       "      <td>18</td>\n",
       "      <td>8.0</td>\n",
       "      <td>0</td>\n",
       "    </tr>\n",
       "    <tr>\n",
       "      <th>2</th>\n",
       "      <td>55</td>\n",
       "      <td>8</td>\n",
       "      <td>Utf-8</td>\n",
       "      <td>Not_available</td>\n",
       "      <td>24</td>\n",
       "      <td>3</td>\n",
       "      <td>9</td>\n",
       "      <td>1715</td>\n",
       "      <td>26</td>\n",
       "      <td>31</td>\n",
       "      <td>22292</td>\n",
       "      <td>1867</td>\n",
       "      <td>26</td>\n",
       "      <td>2.0</td>\n",
       "      <td>0</td>\n",
       "    </tr>\n",
       "    <tr>\n",
       "      <th>3</th>\n",
       "      <td>75</td>\n",
       "      <td>16</td>\n",
       "      <td>Iso-8859-1</td>\n",
       "      <td>Us</td>\n",
       "      <td>33</td>\n",
       "      <td>3</td>\n",
       "      <td>8</td>\n",
       "      <td>3647</td>\n",
       "      <td>41</td>\n",
       "      <td>39</td>\n",
       "      <td>32399</td>\n",
       "      <td>4247</td>\n",
       "      <td>41</td>\n",
       "      <td>8.0</td>\n",
       "      <td>0</td>\n",
       "    </tr>\n",
       "    <tr>\n",
       "      <th>4</th>\n",
       "      <td>71</td>\n",
       "      <td>12</td>\n",
       "      <td>Utf-8</td>\n",
       "      <td>Fr</td>\n",
       "      <td>25</td>\n",
       "      <td>3</td>\n",
       "      <td>5</td>\n",
       "      <td>3428</td>\n",
       "      <td>29</td>\n",
       "      <td>23</td>\n",
       "      <td>28007</td>\n",
       "      <td>3736</td>\n",
       "      <td>29</td>\n",
       "      <td>4.0</td>\n",
       "      <td>0</td>\n",
       "    </tr>\n",
       "  </tbody>\n",
       "</table>\n",
       "</div>"
      ],
      "text/plain": [
       "   URL_LENGTH  NUMBER_SPECIAL_CHARACTERS     CHARSET  WHOIS_COUNTRY  \\\n",
       "0          34                          7  Iso-8859-1             Us   \n",
       "1         145                         31       Utf-8             Us   \n",
       "2          55                          8       Utf-8  Not_available   \n",
       "3          75                         16  Iso-8859-1             Us   \n",
       "4          71                         12       Utf-8             Fr   \n",
       "\n",
       "   TCP_CONVERSATION_EXCHANGE  DIST_REMOTE_TCP_PORT  REMOTE_IPS  APP_BYTES  \\\n",
       "0                         23                     3          11       2042   \n",
       "1                         10                     3           3       1354   \n",
       "2                         24                     3           9       1715   \n",
       "3                         33                     3           8       3647   \n",
       "4                         25                     3           5       3428   \n",
       "\n",
       "   SOURCE_APP_PACKETS  REMOTE_APP_PACKETS  SOURCE_APP_BYTES  REMOTE_APP_BYTES  \\\n",
       "0                  29                  29              7939              2520   \n",
       "1                  18                  19              2517              2010   \n",
       "2                  26                  31             22292              1867   \n",
       "3                  41                  39             32399              4247   \n",
       "4                  29                  23             28007              3736   \n",
       "\n",
       "   APP_PACKETS  DNS_QUERY_TIMES  Type  \n",
       "0           29              6.0     0  \n",
       "1           18              8.0     0  \n",
       "2           26              2.0     0  \n",
       "3           41              8.0     0  \n",
       "4           29              4.0     0  "
      ]
     },
     "execution_count": 11,
     "metadata": {},
     "output_type": "execute_result"
    }
   ],
   "source": [
    "type_0.head()"
   ]
  },
  {
   "cell_type": "code",
   "execution_count": 12,
   "metadata": {},
   "outputs": [],
   "source": [
    "type_1 = X_train[X_train.loc[:, \"Type\"] == 1]"
   ]
  },
  {
   "cell_type": "code",
   "execution_count": 13,
   "metadata": {},
   "outputs": [
    {
     "data": {
      "text/html": [
       "<div>\n",
       "<style scoped>\n",
       "    .dataframe tbody tr th:only-of-type {\n",
       "        vertical-align: middle;\n",
       "    }\n",
       "\n",
       "    .dataframe tbody tr th {\n",
       "        vertical-align: top;\n",
       "    }\n",
       "\n",
       "    .dataframe thead th {\n",
       "        text-align: right;\n",
       "    }\n",
       "</style>\n",
       "<table border=\"1\" class=\"dataframe\">\n",
       "  <thead>\n",
       "    <tr style=\"text-align: right;\">\n",
       "      <th></th>\n",
       "      <th>URL_LENGTH</th>\n",
       "      <th>NUMBER_SPECIAL_CHARACTERS</th>\n",
       "      <th>CHARSET</th>\n",
       "      <th>WHOIS_COUNTRY</th>\n",
       "      <th>TCP_CONVERSATION_EXCHANGE</th>\n",
       "      <th>DIST_REMOTE_TCP_PORT</th>\n",
       "      <th>REMOTE_IPS</th>\n",
       "      <th>APP_BYTES</th>\n",
       "      <th>SOURCE_APP_PACKETS</th>\n",
       "      <th>REMOTE_APP_PACKETS</th>\n",
       "      <th>SOURCE_APP_BYTES</th>\n",
       "      <th>REMOTE_APP_BYTES</th>\n",
       "      <th>APP_PACKETS</th>\n",
       "      <th>DNS_QUERY_TIMES</th>\n",
       "      <th>Type</th>\n",
       "    </tr>\n",
       "  </thead>\n",
       "  <tbody>\n",
       "    <tr>\n",
       "      <th>0</th>\n",
       "      <td>34</td>\n",
       "      <td>7</td>\n",
       "      <td>Iso-8859-1</td>\n",
       "      <td>Us</td>\n",
       "      <td>23</td>\n",
       "      <td>3</td>\n",
       "      <td>11</td>\n",
       "      <td>2042</td>\n",
       "      <td>29</td>\n",
       "      <td>29</td>\n",
       "      <td>7939</td>\n",
       "      <td>2520</td>\n",
       "      <td>29</td>\n",
       "      <td>6.0</td>\n",
       "      <td>0</td>\n",
       "    </tr>\n",
       "    <tr>\n",
       "      <th>1</th>\n",
       "      <td>145</td>\n",
       "      <td>31</td>\n",
       "      <td>Utf-8</td>\n",
       "      <td>Us</td>\n",
       "      <td>10</td>\n",
       "      <td>3</td>\n",
       "      <td>3</td>\n",
       "      <td>1354</td>\n",
       "      <td>18</td>\n",
       "      <td>19</td>\n",
       "      <td>2517</td>\n",
       "      <td>2010</td>\n",
       "      <td>18</td>\n",
       "      <td>8.0</td>\n",
       "      <td>0</td>\n",
       "    </tr>\n",
       "    <tr>\n",
       "      <th>2</th>\n",
       "      <td>55</td>\n",
       "      <td>8</td>\n",
       "      <td>Utf-8</td>\n",
       "      <td>Not_available</td>\n",
       "      <td>24</td>\n",
       "      <td>3</td>\n",
       "      <td>9</td>\n",
       "      <td>1715</td>\n",
       "      <td>26</td>\n",
       "      <td>31</td>\n",
       "      <td>22292</td>\n",
       "      <td>1867</td>\n",
       "      <td>26</td>\n",
       "      <td>2.0</td>\n",
       "      <td>0</td>\n",
       "    </tr>\n",
       "    <tr>\n",
       "      <th>3</th>\n",
       "      <td>75</td>\n",
       "      <td>16</td>\n",
       "      <td>Iso-8859-1</td>\n",
       "      <td>Us</td>\n",
       "      <td>33</td>\n",
       "      <td>3</td>\n",
       "      <td>8</td>\n",
       "      <td>3647</td>\n",
       "      <td>41</td>\n",
       "      <td>39</td>\n",
       "      <td>32399</td>\n",
       "      <td>4247</td>\n",
       "      <td>41</td>\n",
       "      <td>8.0</td>\n",
       "      <td>0</td>\n",
       "    </tr>\n",
       "    <tr>\n",
       "      <th>4</th>\n",
       "      <td>71</td>\n",
       "      <td>12</td>\n",
       "      <td>Utf-8</td>\n",
       "      <td>Fr</td>\n",
       "      <td>25</td>\n",
       "      <td>3</td>\n",
       "      <td>5</td>\n",
       "      <td>3428</td>\n",
       "      <td>29</td>\n",
       "      <td>23</td>\n",
       "      <td>28007</td>\n",
       "      <td>3736</td>\n",
       "      <td>29</td>\n",
       "      <td>4.0</td>\n",
       "      <td>0</td>\n",
       "    </tr>\n",
       "  </tbody>\n",
       "</table>\n",
       "</div>"
      ],
      "text/plain": [
       "   URL_LENGTH  NUMBER_SPECIAL_CHARACTERS     CHARSET  WHOIS_COUNTRY  \\\n",
       "0          34                          7  Iso-8859-1             Us   \n",
       "1         145                         31       Utf-8             Us   \n",
       "2          55                          8       Utf-8  Not_available   \n",
       "3          75                         16  Iso-8859-1             Us   \n",
       "4          71                         12       Utf-8             Fr   \n",
       "\n",
       "   TCP_CONVERSATION_EXCHANGE  DIST_REMOTE_TCP_PORT  REMOTE_IPS  APP_BYTES  \\\n",
       "0                         23                     3          11       2042   \n",
       "1                         10                     3           3       1354   \n",
       "2                         24                     3           9       1715   \n",
       "3                         33                     3           8       3647   \n",
       "4                         25                     3           5       3428   \n",
       "\n",
       "   SOURCE_APP_PACKETS  REMOTE_APP_PACKETS  SOURCE_APP_BYTES  REMOTE_APP_BYTES  \\\n",
       "0                  29                  29              7939              2520   \n",
       "1                  18                  19              2517              2010   \n",
       "2                  26                  31             22292              1867   \n",
       "3                  41                  39             32399              4247   \n",
       "4                  29                  23             28007              3736   \n",
       "\n",
       "   APP_PACKETS  DNS_QUERY_TIMES  Type  \n",
       "0           29              6.0     0  \n",
       "1           18              8.0     0  \n",
       "2           26              2.0     0  \n",
       "3           41              8.0     0  \n",
       "4           29              4.0     0  "
      ]
     },
     "execution_count": 13,
     "metadata": {},
     "output_type": "execute_result"
    }
   ],
   "source": [
    "type_1.head()"
   ]
  },
  {
   "cell_type": "code",
   "execution_count": 14,
   "metadata": {},
   "outputs": [
    {
     "data": {
      "text/plain": [
       "(173, 15)"
      ]
     },
     "execution_count": 14,
     "metadata": {},
     "output_type": "execute_result"
    }
   ],
   "source": [
    "type_1.shape"
   ]
  },
  {
   "cell_type": "code",
   "execution_count": 15,
   "metadata": {},
   "outputs": [],
   "source": [
    "type_1_upsampled = resample(\n",
    "    type_1, random_state=42, n_samples=type_0.shape[0], replace=True\n",
    ")"
   ]
  },
  {
   "cell_type": "code",
   "execution_count": 17,
   "metadata": {},
   "outputs": [
    {
     "data": {
      "text/plain": [
       "(1246, 15)"
      ]
     },
     "execution_count": 17,
     "metadata": {},
     "output_type": "execute_result"
    }
   ],
   "source": [
    "type_1_upsampled.shape"
   ]
  },
  {
   "cell_type": "code",
   "execution_count": 18,
   "metadata": {},
   "outputs": [],
   "source": [
    "X_train_upsampled = pd.concat([type_0, type_1_upsampled])"
   ]
  },
  {
   "cell_type": "code",
   "execution_count": 19,
   "metadata": {},
   "outputs": [
    {
     "data": {
      "text/plain": [
       "(2492, 15)"
      ]
     },
     "execution_count": 19,
     "metadata": {},
     "output_type": "execute_result"
    }
   ],
   "source": [
    "X_train_upsampled.shape"
   ]
  },
  {
   "cell_type": "code",
   "execution_count": 20,
   "metadata": {},
   "outputs": [],
   "source": [
    "X_train_upsampled = shuffle(X_train_upsampled)"
   ]
  },
  {
   "cell_type": "code",
   "execution_count": 21,
   "metadata": {},
   "outputs": [
    {
     "data": {
      "text/plain": [
       "(2492,)"
      ]
     },
     "execution_count": 21,
     "metadata": {},
     "output_type": "execute_result"
    }
   ],
   "source": [
    "y_train_upsampled = X_train_upsampled.loc[:, \"Type\"]\n",
    "y_train_upsampled.shape"
   ]
  },
  {
   "cell_type": "code",
   "execution_count": 22,
   "metadata": {},
   "outputs": [
    {
     "data": {
      "text/plain": [
       "(2492, 14)"
      ]
     },
     "execution_count": 22,
     "metadata": {},
     "output_type": "execute_result"
    }
   ],
   "source": [
    "X_train_upsampled = X_train_upsampled.drop(columns=\"Type\")\n",
    "X_train_upsampled.shape"
   ]
  },
  {
   "cell_type": "code",
   "execution_count": 24,
   "metadata": {},
   "outputs": [],
   "source": [
    "X_train_upsampled.to_csv(\"../data/interim/X_Train_upsampled.csv\", index=False)\n",
    "y_train_upsampled.to_csv(\"../data/interim/y_train_upsampled.csv\", index=False)"
   ]
  },
  {
   "cell_type": "code",
   "execution_count": null,
   "metadata": {},
   "outputs": [],
   "source": []
  },
  {
   "cell_type": "markdown",
   "metadata": {},
   "source": []
  }
 ],
 "metadata": {
  "kernelspec": {
   "display_name": "11_mini_project",
   "language": "python",
   "name": "python3"
  },
  "language_info": {
   "codemirror_mode": {
    "name": "ipython",
    "version": 3
   },
   "file_extension": ".py",
   "mimetype": "text/x-python",
   "name": "python",
   "nbconvert_exporter": "python",
   "pygments_lexer": "ipython3",
   "version": "3.11.5"
  }
 },
 "nbformat": 4,
 "nbformat_minor": 2
}
